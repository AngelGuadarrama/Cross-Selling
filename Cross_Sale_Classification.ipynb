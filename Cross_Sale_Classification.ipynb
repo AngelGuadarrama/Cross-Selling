{
  "nbformat": 4,
  "nbformat_minor": 0,
  "metadata": {
    "colab": {
      "name": "Cross_Sale_Classification.ipynb",
      "provenance": [],
      "collapsed_sections": [],
      "toc_visible": true,
      "mount_file_id": "1uvmdjobPF6mEAPxbb0aYtnuxU1VWp0Vd",
      "authorship_tag": "ABX9TyOXJqN8TSKos9tmgKh31L91",
      "include_colab_link": true
    },
    "kernelspec": {
      "name": "python3",
      "display_name": "Python 3"
    }
  },
  "cells": [
    {
      "cell_type": "markdown",
      "metadata": {
        "id": "view-in-github",
        "colab_type": "text"
      },
      "source": [
        "<a href=\"https://colab.research.google.com/github/AngelGuadarrama/Cross-Selling/blob/main/Cross_Sale_Classification.ipynb\" target=\"_parent\"><img src=\"https://colab.research.google.com/assets/colab-badge.svg\" alt=\"Open In Colab\"/></a>"
      ]
    },
    {
      "cell_type": "markdown",
      "metadata": {
        "id": "YkVgYnu8JajH"
      },
      "source": [
        "\r\n",
        "# ML Classification Assignment\r\n",
        "\r\n",
        "We want to know if a client that has subscribed a health insurance could be interested in a vehicle insurance"
      ]
    },
    {
      "cell_type": "markdown",
      "metadata": {
        "id": "Sm2IiNINPWZN"
      },
      "source": [
        "## **Importing Data**"
      ]
    },
    {
      "cell_type": "code",
      "metadata": {
        "id": "gQfrLj8TDDQt",
        "colab": {
          "base_uri": "https://localhost:8080/",
          "height": 202
        },
        "outputId": "d939dce3-8b95-4c6e-e184-105ef5867598"
      },
      "source": [
        "import numpy as np\r\n",
        "import pandas as pd\r\n",
        "import matplotlib.pyplot as plt\r\n",
        "import seaborn as sns\r\n",
        "from sklearn.preprocessing import LabelEncoder, StandardScaler\r\n",
        "from sklearn.model_selection import cross_val_score, RandomizedSearchCV\r\n",
        "from sklearn.decomposition import PCA\r\n",
        "from sklearn.feature_selection import RFE\r\n",
        "from sklearn.linear_model import LogisticRegression, SGDClassifier\r\n",
        "from sklearn.neighbors import KNeighborsClassifier\r\n",
        "from sklearn.ensemble import  RandomForestClassifier\r\n",
        "#from sklearn.svm import SVC\r\n",
        "import xgboost as xgb \r\n",
        "from sklearn.metrics import classification_report, f1_score, accuracy_score, roc_curve, roc_auc_score, confusion_matrix\r\n",
        "from sklearn.model_selection import KFold, train_test_split\r\n",
        "\r\n",
        "\r\n",
        "data=pd.read_csv('/content/drive/MyDrive/Colab Notebooks/Cross_Sale_Classification/model.csv')\r\n",
        "data.head()"
      ],
      "execution_count": 12,
      "outputs": [
        {
          "output_type": "execute_result",
          "data": {
            "text/html": [
              "<div>\n",
              "<style scoped>\n",
              "    .dataframe tbody tr th:only-of-type {\n",
              "        vertical-align: middle;\n",
              "    }\n",
              "\n",
              "    .dataframe tbody tr th {\n",
              "        vertical-align: top;\n",
              "    }\n",
              "\n",
              "    .dataframe thead th {\n",
              "        text-align: right;\n",
              "    }\n",
              "</style>\n",
              "<table border=\"1\" class=\"dataframe\">\n",
              "  <thead>\n",
              "    <tr style=\"text-align: right;\">\n",
              "      <th></th>\n",
              "      <th>id</th>\n",
              "      <th>Gender</th>\n",
              "      <th>Age</th>\n",
              "      <th>Driving_License</th>\n",
              "      <th>Licence_Type</th>\n",
              "      <th>Region_Code</th>\n",
              "      <th>Previously_Insured</th>\n",
              "      <th>Vehicle_Age</th>\n",
              "      <th>Vehicle_Damage</th>\n",
              "      <th>Annual_Premium</th>\n",
              "      <th>Policy_Sales_Channel</th>\n",
              "      <th>Seniority</th>\n",
              "      <th>Target</th>\n",
              "    </tr>\n",
              "  </thead>\n",
              "  <tbody>\n",
              "    <tr>\n",
              "      <th>0</th>\n",
              "      <td>1</td>\n",
              "      <td>Female</td>\n",
              "      <td>44</td>\n",
              "      <td>1</td>\n",
              "      <td>M</td>\n",
              "      <td>30</td>\n",
              "      <td>No</td>\n",
              "      <td>1-2 Year</td>\n",
              "      <td>Yes</td>\n",
              "      <td>25741</td>\n",
              "      <td>154</td>\n",
              "      <td>152</td>\n",
              "      <td>0</td>\n",
              "    </tr>\n",
              "    <tr>\n",
              "      <th>1</th>\n",
              "      <td>2</td>\n",
              "      <td>Male</td>\n",
              "      <td>23</td>\n",
              "      <td>1</td>\n",
              "      <td>M</td>\n",
              "      <td>3</td>\n",
              "      <td>Yes</td>\n",
              "      <td>&lt; 1 Year</td>\n",
              "      <td>No</td>\n",
              "      <td>2630</td>\n",
              "      <td>152</td>\n",
              "      <td>256</td>\n",
              "      <td>0</td>\n",
              "    </tr>\n",
              "    <tr>\n",
              "      <th>2</th>\n",
              "      <td>3</td>\n",
              "      <td>Male</td>\n",
              "      <td>43</td>\n",
              "      <td>1</td>\n",
              "      <td>C</td>\n",
              "      <td>28</td>\n",
              "      <td>No</td>\n",
              "      <td>1-2 Year</td>\n",
              "      <td>Yes</td>\n",
              "      <td>70720</td>\n",
              "      <td>52</td>\n",
              "      <td>224</td>\n",
              "      <td>0</td>\n",
              "    </tr>\n",
              "    <tr>\n",
              "      <th>3</th>\n",
              "      <td>4</td>\n",
              "      <td>Male</td>\n",
              "      <td>60</td>\n",
              "      <td>1</td>\n",
              "      <td>B</td>\n",
              "      <td>28</td>\n",
              "      <td>Yes</td>\n",
              "      <td>1-2 Year</td>\n",
              "      <td>No</td>\n",
              "      <td>48512</td>\n",
              "      <td>26</td>\n",
              "      <td>86</td>\n",
              "      <td>0</td>\n",
              "    </tr>\n",
              "    <tr>\n",
              "      <th>4</th>\n",
              "      <td>5</td>\n",
              "      <td>Female</td>\n",
              "      <td>42</td>\n",
              "      <td>1</td>\n",
              "      <td>B</td>\n",
              "      <td>46</td>\n",
              "      <td>No</td>\n",
              "      <td>1-2 Year</td>\n",
              "      <td>Yes</td>\n",
              "      <td>32169</td>\n",
              "      <td>124</td>\n",
              "      <td>132</td>\n",
              "      <td>0</td>\n",
              "    </tr>\n",
              "  </tbody>\n",
              "</table>\n",
              "</div>"
            ],
            "text/plain": [
              "   id  Gender  Age  ...  Policy_Sales_Channel Seniority  Target\n",
              "0   1  Female   44  ...                   154       152       0\n",
              "1   2    Male   23  ...                   152       256       0\n",
              "2   3    Male   43  ...                    52       224       0\n",
              "3   4    Male   60  ...                    26        86       0\n",
              "4   5  Female   42  ...                   124       132       0\n",
              "\n",
              "[5 rows x 13 columns]"
            ]
          },
          "metadata": {
            "tags": []
          },
          "execution_count": 12
        }
      ]
    },
    {
      "cell_type": "code",
      "metadata": {
        "colab": {
          "base_uri": "https://localhost:8080/"
        },
        "id": "a4-thCf_Y-Fp",
        "outputId": "7c1de7ff-b6f4-428a-e715-6e1fc2a1565e"
      },
      "source": [
        "data.info()"
      ],
      "execution_count": null,
      "outputs": [
        {
          "output_type": "stream",
          "text": [
            "<class 'pandas.core.frame.DataFrame'>\n",
            "RangeIndex: 102351 entries, 0 to 102350\n",
            "Data columns (total 13 columns):\n",
            " #   Column                Non-Null Count   Dtype \n",
            "---  ------                --------------   ----- \n",
            " 0   id                    102351 non-null  int64 \n",
            " 1   Gender                102351 non-null  object\n",
            " 2   Age                   102351 non-null  int64 \n",
            " 3   Driving_License       102351 non-null  int64 \n",
            " 4   Licence_Type          97260 non-null   object\n",
            " 5   Region_Code           102351 non-null  int64 \n",
            " 6   Previously_Insured    102351 non-null  object\n",
            " 7   Vehicle_Age           102351 non-null  object\n",
            " 8   Vehicle_Damage        102351 non-null  object\n",
            " 9   Annual_Premium        102351 non-null  int64 \n",
            " 10  Policy_Sales_Channel  102351 non-null  int64 \n",
            " 11  Seniority             102351 non-null  int64 \n",
            " 12  Target                102351 non-null  int64 \n",
            "dtypes: int64(8), object(5)\n",
            "memory usage: 10.2+ MB\n"
          ],
          "name": "stdout"
        }
      ]
    },
    {
      "cell_type": "markdown",
      "metadata": {
        "id": "w8UCVFjUvFyW"
      },
      "source": [
        "## **Cleaning Data**"
      ]
    },
    {
      "cell_type": "markdown",
      "metadata": {
        "id": "Zq3k90zkWrjf"
      },
      "source": [
        "\r\n",
        "\r\n",
        "*   The License_Type column has null values that we are going to convert to another category because these rows also have False in the Driving_License column (those who don't have a driver's license)\r\n",
        "\r\n"
      ]
    },
    {
      "cell_type": "code",
      "metadata": {
        "colab": {
          "base_uri": "https://localhost:8080/"
        },
        "id": "6qwHbnw7AEw3",
        "outputId": "c95a5492-c8ba-47fa-fd60-0b3e992d7e2a"
      },
      "source": [
        "data.Driving_License.value_counts()"
      ],
      "execution_count": null,
      "outputs": [
        {
          "output_type": "execute_result",
          "data": {
            "text/plain": [
              "1    97260\n",
              "0     5091\n",
              "Name: Driving_License, dtype: int64"
            ]
          },
          "metadata": {
            "tags": []
          },
          "execution_count": 16
        }
      ]
    },
    {
      "cell_type": "code",
      "metadata": {
        "colab": {
          "base_uri": "https://localhost:8080/"
        },
        "id": "z5eo7G_XX9q6",
        "outputId": "a276cbb6-ad67-430a-d625-add8db11e44e"
      },
      "source": [
        "data.fillna({'Licence_Type':'N'}, inplace=True)\r\n",
        "data.Licence_Type.value_counts()"
      ],
      "execution_count": 2,
      "outputs": [
        {
          "output_type": "execute_result",
          "data": {
            "text/plain": [
              "C    19835\n",
              "M    19686\n",
              "D    19566\n",
              "B    19306\n",
              "A    18867\n",
              "N     5091\n",
              "Name: Licence_Type, dtype: int64"
            ]
          },
          "metadata": {
            "tags": []
          },
          "execution_count": 2
        }
      ]
    },
    {
      "cell_type": "code",
      "metadata": {
        "colab": {
          "base_uri": "https://localhost:8080/",
          "height": 383
        },
        "id": "T0eIlkARySdV",
        "outputId": "9f95df9f-8c5a-477b-e59b-7875efe65759"
      },
      "source": [
        "sns.heatmap(data.corr(), square= True, cmap='RdYlGn')"
      ],
      "execution_count": null,
      "outputs": [
        {
          "output_type": "execute_result",
          "data": {
            "text/plain": [
              "<matplotlib.axes._subplots.AxesSubplot at 0x7fad74fb9d68>"
            ]
          },
          "metadata": {
            "tags": []
          },
          "execution_count": 18
        },
        {
          "output_type": "display_data",
          "data": {
            "image/png": "[encoded data removed]",
            "text/plain": [
              "<Figure size 432x288 with 2 Axes>"
            ]
          },
          "metadata": {
            "tags": [],
            "needs_background": "light"
          }
        }
      ]
    },
    {
      "cell_type": "markdown",
      "metadata": {
        "id": "Pbry7zl-ZWX_"
      },
      "source": [
        "\r\n",
        "*  Let's change the data type restrictions"
      ]
    },
    {
      "cell_type": "code",
      "metadata": {
        "id": "lZxgcDgoaMlC"
      },
      "source": [
        "data['Previously_Insured'].replace({'Yes':'True','No':'False'}, inplace=True)\r\n",
        "data['Vehicle_Damage'].replace({'Yes':'True','No':'False'}, inplace=True)\r\n",
        "\r\n",
        "labels_multi=['Gender','Licence_Type','Vehicle_Age']\r\n",
        "labels_bin=['Driving_License','Previously_Insured','Vehicle_Damage']\r\n",
        "\r\n",
        "data[labels_multi]=data[labels_multi].apply(lambda x: x.astype('category') ,axis=0)\r\n",
        "data[labels_bin]=data[labels_bin].apply(lambda x: x.astype('bool') ,axis=0)"
      ],
      "execution_count": 3,
      "outputs": []
    },
    {
      "cell_type": "code",
      "metadata": {
        "colab": {
          "base_uri": "https://localhost:8080/"
        },
        "id": "OVjJYdARezzT",
        "outputId": "36ce9c7e-c1d2-404f-dd8c-1506b67a29e5"
      },
      "source": [
        "data.info()"
      ],
      "execution_count": null,
      "outputs": [
        {
          "output_type": "stream",
          "text": [
            "<class 'pandas.core.frame.DataFrame'>\n",
            "RangeIndex: 102351 entries, 0 to 102350\n",
            "Data columns (total 13 columns):\n",
            " #   Column                Non-Null Count   Dtype   \n",
            "---  ------                --------------   -----   \n",
            " 0   id                    102351 non-null  int64   \n",
            " 1   Gender                102351 non-null  category\n",
            " 2   Age                   102351 non-null  int64   \n",
            " 3   Driving_License       102351 non-null  bool    \n",
            " 4   Licence_Type          102351 non-null  category\n",
            " 5   Region_Code           102351 non-null  int64   \n",
            " 6   Previously_Insured    102351 non-null  bool    \n",
            " 7   Vehicle_Age           102351 non-null  category\n",
            " 8   Vehicle_Damage        102351 non-null  bool    \n",
            " 9   Annual_Premium        102351 non-null  int64   \n",
            " 10  Policy_Sales_Channel  102351 non-null  int64   \n",
            " 11  Seniority             102351 non-null  int64   \n",
            " 12  Target                102351 non-null  int64   \n",
            "dtypes: bool(3), category(3), int64(7)\n",
            "memory usage: 6.1 MB\n"
          ],
          "name": "stdout"
        }
      ]
    },
    {
      "cell_type": "markdown",
      "metadata": {
        "id": "ohCRmygqfu3n"
      },
      "source": [
        "## **Split categorical/continuous**"
      ]
    },
    {
      "cell_type": "code",
      "metadata": {
        "id": "oKIzgKNnfvLn"
      },
      "source": [
        "data_categorical=data[['Gender', 'Driving_License', 'Licence_Type', 'Region_Code',\r\n",
        "       'Previously_Insured', 'Vehicle_Age', 'Vehicle_Damage',\r\n",
        "       'Policy_Sales_Channel', 'Target']]\r\n",
        "data_numerical=data[['id','Age', 'Annual_Premium', 'Seniority']]"
      ],
      "execution_count": 4,
      "outputs": []
    },
    {
      "cell_type": "markdown",
      "metadata": {
        "id": "b8vxH-Z2AcEw"
      },
      "source": [
        "## **Categorical variables**\r\n"
      ]
    },
    {
      "cell_type": "code",
      "metadata": {
        "colab": {
          "base_uri": "https://localhost:8080/"
        },
        "id": "zBd0NTQERN8m",
        "outputId": "b9a45dd1-76f2-4df3-ebd5-9ac533315850"
      },
      "source": [
        "data_categorical.columns"
      ],
      "execution_count": null,
      "outputs": [
        {
          "output_type": "execute_result",
          "data": {
            "text/plain": [
              "Index(['Region_Code', 'Policy_Sales_Channel', 'Target', 'Driving_License_enc',\n",
              "       'Previously_Insured_enc', 'Vehicle_Damage_enc', 'DM_Male', 'DM_B',\n",
              "       'DM_C', 'DM_D', 'DM_M', 'DM_N', 'DM_< 1 Year', 'DM_> 2 Years'],\n",
              "      dtype='object')"
            ]
          },
          "metadata": {
            "tags": []
          },
          "execution_count": 12
        }
      ]
    },
    {
      "cell_type": "code",
      "metadata": {
        "colab": {
          "base_uri": "https://localhost:8080/"
        },
        "id": "M7Tk4lmKdpDr",
        "outputId": "abd4056f-d4e8-4b2b-cba4-d1eb5675632a"
      },
      "source": [
        "data_categorical.Target.value_counts()"
      ],
      "execution_count": null,
      "outputs": [
        {
          "output_type": "execute_result",
          "data": {
            "text/plain": [
              "0    69878\n",
              "1    32473\n",
              "Name: Target, dtype: int64"
            ]
          },
          "metadata": {
            "tags": []
          },
          "execution_count": 10
        }
      ]
    },
    {
      "cell_type": "code",
      "metadata": {
        "id": "qzOphLvVAciT",
        "colab": {
          "base_uri": "https://localhost:8080/"
        },
        "outputId": "ba1a7d7e-44eb-4f60-d5b4-63183e66ad01"
      },
      "source": [
        "enc1=LabelEncoder()\r\n",
        "enc2=LabelEncoder()\r\n",
        "enc3=LabelEncoder()\r\n",
        "\r\n",
        "enc1.fit(data_categorical.Driving_License)\r\n",
        "enc2.fit(data_categorical.Previously_Insured)\r\n",
        "enc3.fit(data_categorical.Vehicle_Damage)\r\n",
        "\r\n",
        "data_categorical['Driving_License_enc']=enc1.transform(data_categorical.Driving_License)\r\n",
        "data_categorical['Previously_Insured_enc']=enc2.transform(data_categorical.Previously_Insured)\r\n",
        "data_categorical['Vehicle_Damage_enc']=enc3.transform(data_categorical.Vehicle_Damage)\r\n",
        "\r\n",
        "data_categorical.drop(['Driving_License','Previously_Insured','Vehicle_Damage'], axis=1, inplace=True)\r\n",
        "\r\n",
        "data_categorical=pd.get_dummies(data_categorical, columns=['Gender', 'Licence_Type', 'Vehicle_Age'], drop_first=True, prefix='DM')"
      ],
      "execution_count": 5,
      "outputs": [
        {
          "output_type": "stream",
          "text": [
            "/usr/local/lib/python3.7/dist-packages/ipykernel_launcher.py:9: SettingWithCopyWarning: \n",
            "A value is trying to be set on a copy of a slice from a DataFrame.\n",
            "Try using .loc[row_indexer,col_indexer] = value instead\n",
            "\n",
            "See the caveats in the documentation: https://pandas.pydata.org/pandas-docs/stable/user_guide/indexing.html#returning-a-view-versus-a-copy\n",
            "  if __name__ == '__main__':\n",
            "/usr/local/lib/python3.7/dist-packages/ipykernel_launcher.py:10: SettingWithCopyWarning: \n",
            "A value is trying to be set on a copy of a slice from a DataFrame.\n",
            "Try using .loc[row_indexer,col_indexer] = value instead\n",
            "\n",
            "See the caveats in the documentation: https://pandas.pydata.org/pandas-docs/stable/user_guide/indexing.html#returning-a-view-versus-a-copy\n",
            "  # Remove the CWD from sys.path while we load stuff.\n",
            "/usr/local/lib/python3.7/dist-packages/ipykernel_launcher.py:11: SettingWithCopyWarning: \n",
            "A value is trying to be set on a copy of a slice from a DataFrame.\n",
            "Try using .loc[row_indexer,col_indexer] = value instead\n",
            "\n",
            "See the caveats in the documentation: https://pandas.pydata.org/pandas-docs/stable/user_guide/indexing.html#returning-a-view-versus-a-copy\n",
            "  # This is added back by InteractiveShellApp.init_path()\n",
            "/usr/local/lib/python3.7/dist-packages/pandas/core/frame.py:4174: SettingWithCopyWarning: \n",
            "A value is trying to be set on a copy of a slice from a DataFrame\n",
            "\n",
            "See the caveats in the documentation: https://pandas.pydata.org/pandas-docs/stable/user_guide/indexing.html#returning-a-view-versus-a-copy\n",
            "  errors=errors,\n"
          ],
          "name": "stderr"
        }
      ]
    },
    {
      "cell_type": "code",
      "metadata": {
        "colab": {
          "base_uri": "https://localhost:8080/"
        },
        "id": "3jQExAT-3lXV",
        "outputId": "08326059-248d-457c-cdcd-3c18d420d9b7"
      },
      "source": [
        "data_categorical.columns"
      ],
      "execution_count": null,
      "outputs": [
        {
          "output_type": "execute_result",
          "data": {
            "text/plain": [
              "Index(['Region_Code', 'Policy_Sales_Channel', 'Target', 'Driving_License_enc',\n",
              "       'Previously_Insured_enc', 'Vehicle_Damage_enc', 'DM_Male', 'DM_B',\n",
              "       'DM_C', 'DM_D', 'DM_M', 'DM_N', 'DM_< 1 Year', 'DM_> 2 Years'],\n",
              "      dtype='object')"
            ]
          },
          "metadata": {
            "tags": []
          },
          "execution_count": 12
        }
      ]
    },
    {
      "cell_type": "markdown",
      "metadata": {
        "id": "k3alPvJtNCgn"
      },
      "source": [
        "## **Numerical variables**"
      ]
    },
    {
      "cell_type": "code",
      "metadata": {
        "colab": {
          "base_uri": "https://localhost:8080/",
          "height": 287
        },
        "id": "dLm3UXgmNC1b",
        "outputId": "3e637729-f360-4d37-86b6-31df9e4372cb"
      },
      "source": [
        "data_numerical[['Age', 'Annual_Premium', 'Seniority']].describe()"
      ],
      "execution_count": null,
      "outputs": [
        {
          "output_type": "execute_result",
          "data": {
            "text/html": [
              "<div>\n",
              "<style scoped>\n",
              "    .dataframe tbody tr th:only-of-type {\n",
              "        vertical-align: middle;\n",
              "    }\n",
              "\n",
              "    .dataframe tbody tr th {\n",
              "        vertical-align: top;\n",
              "    }\n",
              "\n",
              "    .dataframe thead th {\n",
              "        text-align: right;\n",
              "    }\n",
              "</style>\n",
              "<table border=\"1\" class=\"dataframe\">\n",
              "  <thead>\n",
              "    <tr style=\"text-align: right;\">\n",
              "      <th></th>\n",
              "      <th>Age</th>\n",
              "      <th>Annual_Premium</th>\n",
              "      <th>Seniority</th>\n",
              "    </tr>\n",
              "  </thead>\n",
              "  <tbody>\n",
              "    <tr>\n",
              "      <th>count</th>\n",
              "      <td>102351.000000</td>\n",
              "      <td>102351.000000</td>\n",
              "      <td>102351.000000</td>\n",
              "    </tr>\n",
              "    <tr>\n",
              "      <th>mean</th>\n",
              "      <td>39.867339</td>\n",
              "      <td>30748.636398</td>\n",
              "      <td>154.527030</td>\n",
              "    </tr>\n",
              "    <tr>\n",
              "      <th>std</th>\n",
              "      <td>14.935793</td>\n",
              "      <td>17544.726810</td>\n",
              "      <td>83.735221</td>\n",
              "    </tr>\n",
              "    <tr>\n",
              "      <th>min</th>\n",
              "      <td>20.000000</td>\n",
              "      <td>2630.000000</td>\n",
              "      <td>10.000000</td>\n",
              "    </tr>\n",
              "    <tr>\n",
              "      <th>25%</th>\n",
              "      <td>25.000000</td>\n",
              "      <td>24435.500000</td>\n",
              "      <td>82.000000</td>\n",
              "    </tr>\n",
              "    <tr>\n",
              "      <th>50%</th>\n",
              "      <td>39.000000</td>\n",
              "      <td>31943.000000</td>\n",
              "      <td>155.000000</td>\n",
              "    </tr>\n",
              "    <tr>\n",
              "      <th>75%</th>\n",
              "      <td>50.000000</td>\n",
              "      <td>39774.000000</td>\n",
              "      <td>227.000000</td>\n",
              "    </tr>\n",
              "    <tr>\n",
              "      <th>max</th>\n",
              "      <td>85.000000</td>\n",
              "      <td>540165.000000</td>\n",
              "      <td>299.000000</td>\n",
              "    </tr>\n",
              "  </tbody>\n",
              "</table>\n",
              "</div>"
            ],
            "text/plain": [
              "                 Age  Annual_Premium      Seniority\n",
              "count  102351.000000   102351.000000  102351.000000\n",
              "mean       39.867339    30748.636398     154.527030\n",
              "std        14.935793    17544.726810      83.735221\n",
              "min        20.000000     2630.000000      10.000000\n",
              "25%        25.000000    24435.500000      82.000000\n",
              "50%        39.000000    31943.000000     155.000000\n",
              "75%        50.000000    39774.000000     227.000000\n",
              "max        85.000000   540165.000000     299.000000"
            ]
          },
          "metadata": {
            "tags": []
          },
          "execution_count": 6
        }
      ]
    },
    {
      "cell_type": "code",
      "metadata": {
        "colab": {
          "base_uri": "https://localhost:8080/",
          "height": 265
        },
        "id": "mdwdnlobxktS",
        "outputId": "914379d5-dc24-41b4-c2ec-c1cf7c3f8fa2"
      },
      "source": [
        "data_numerical[['Age', 'Annual_Premium', 'Seniority']].boxplot()\r\n",
        "plt.show()"
      ],
      "execution_count": null,
      "outputs": [
        {
          "output_type": "display_data",
          "data": {
            "image/png": "[encoded data removed]",
            "text/plain": [
              "<Figure size 432x288 with 1 Axes>"
            ]
          },
          "metadata": {
            "tags": [],
            "needs_background": "light"
          }
        }
      ]
    },
    {
      "cell_type": "code",
      "metadata": {
        "colab": {
          "base_uri": "https://localhost:8080/",
          "height": 370
        },
        "id": "ppg8EhrTNDIu",
        "outputId": "4229707e-b7d2-4140-c62c-79881d81eb3f"
      },
      "source": [
        "data_numerical['Annual_Premium_log']=np.log(data_numerical.Annual_Premium)\r\n",
        "\r\n",
        "data_numerical[['Age', 'Annual_Premium_log', 'Seniority']].boxplot()\r\n",
        "plt.show()"
      ],
      "execution_count": 6,
      "outputs": [
        {
          "output_type": "stream",
          "text": [
            "/usr/local/lib/python3.7/dist-packages/ipykernel_launcher.py:1: SettingWithCopyWarning: \n",
            "A value is trying to be set on a copy of a slice from a DataFrame.\n",
            "Try using .loc[row_indexer,col_indexer] = value instead\n",
            "\n",
            "See the caveats in the documentation: https://pandas.pydata.org/pandas-docs/stable/user_guide/indexing.html#returning-a-view-versus-a-copy\n",
            "  \"\"\"Entry point for launching an IPython kernel.\n"
          ],
          "name": "stderr"
        },
        {
          "output_type": "display_data",
          "data": {
            "image/png": "[encoded data removed]",
            "text/plain": [
              "<Figure size 432x288 with 1 Axes>"
            ]
          },
          "metadata": {
            "tags": [],
            "needs_background": "light"
          }
        }
      ]
    },
    {
      "cell_type": "code",
      "metadata": {
        "colab": {
          "base_uri": "https://localhost:8080/",
          "height": 266
        },
        "id": "6Cw6pIqJNDX5",
        "outputId": "5e6bf251-38b2-46fd-c18d-5b095d10bffb"
      },
      "source": [
        "ss1=StandardScaler()\r\n",
        "ss2=StandardScaler()\r\n",
        "ss3=StandardScaler()\r\n",
        "\r\n",
        "ss1.fit(data_numerical[['Age']])\r\n",
        "ss2.fit(data_numerical[['Annual_Premium_log']])\r\n",
        "ss3.fit(data_numerical[['Seniority']])\r\n",
        "\r\n",
        "data_num_scaled=pd.concat([pd.DataFrame(ss1.transform(data_numerical[['Age']]), columns=['Age']), \r\n",
        "                           pd.DataFrame(ss2.transform(data_numerical[['Annual_Premium_log']]), columns=['Annual_Premium_log']), \r\n",
        "                           pd.DataFrame(ss3.transform(data_numerical[['Seniority']]), columns=['Seniority']) ], axis=1)\r\n",
        "\r\n",
        "data_num_scaled.boxplot()\r\n",
        "plt.show()"
      ],
      "execution_count": 7,
      "outputs": [
        {
          "output_type": "display_data",
          "data": {
            "image/png": "[encoded data removed]",
            "text/plain": [
              "<Figure size 432x288 with 1 Axes>"
            ]
          },
          "metadata": {
            "tags": [],
            "needs_background": "light"
          }
        }
      ]
    },
    {
      "cell_type": "markdown",
      "metadata": {
        "id": "iryjmr__NDlJ"
      },
      "source": [
        "## **Joining the columns**"
      ]
    },
    {
      "cell_type": "code",
      "metadata": {
        "colab": {
          "base_uri": "https://localhost:8080/"
        },
        "id": "jX6mDUPBND7e",
        "outputId": "6bbee506-905a-49a8-e951-20a71e1fc44e"
      },
      "source": [
        "data_encoded=pd.concat([data_numerical.id, data_num_scaled, data_categorical], axis=1)\r\n",
        "data_encoded.shape"
      ],
      "execution_count": 8,
      "outputs": [
        {
          "output_type": "execute_result",
          "data": {
            "text/plain": [
              "(102351, 18)"
            ]
          },
          "metadata": {
            "tags": []
          },
          "execution_count": 8
        }
      ]
    },
    {
      "cell_type": "code",
      "metadata": {
        "colab": {
          "base_uri": "https://localhost:8080/",
          "height": 393
        },
        "id": "s_-aGCdHNPlt",
        "outputId": "ac339097-ca4a-40a2-c023-6c6ec1e0cb5e"
      },
      "source": [
        "sns.heatmap(data_encoded.corr(), square= True, cmap='RdYlGn')"
      ],
      "execution_count": null,
      "outputs": [
        {
          "output_type": "execute_result",
          "data": {
            "text/plain": [
              "<matplotlib.axes._subplots.AxesSubplot at 0x7f93902f6358>"
            ]
          },
          "metadata": {
            "tags": []
          },
          "execution_count": 10
        },
        {
          "output_type": "display_data",
          "data": {
            "image/png": "[encoded data removed]",
            "text/plain": [
              "<Figure size 432x288 with 2 Axes>"
            ]
          },
          "metadata": {
            "tags": [],
            "needs_background": "light"
          }
        }
      ]
    },
    {
      "cell_type": "code",
      "metadata": {
        "id": "9g20Jeb4NP3j"
      },
      "source": [
        "data_encoded.drop(['DM_N'], inplace=True, axis=1)"
      ],
      "execution_count": 9,
      "outputs": []
    },
    {
      "cell_type": "code",
      "metadata": {
        "colab": {
          "base_uri": "https://localhost:8080/"
        },
        "id": "RmG0KIHSfjmF",
        "outputId": "e3c74308-7c02-4afd-b956-6837717372d5"
      },
      "source": [
        "data_encoded.columns"
      ],
      "execution_count": null,
      "outputs": [
        {
          "output_type": "execute_result",
          "data": {
            "text/plain": [
              "Index(['id', 'Age', 'Annual_Premium_log', 'Seniority', 'Region_Code',\n",
              "       'Policy_Sales_Channel', 'Target', 'Driving_License_enc',\n",
              "       'Previously_Insured_enc', 'Vehicle_Damage_enc', 'DM_Male', 'DM_B',\n",
              "       'DM_C', 'DM_D', 'DM_M', 'DM_< 1 Year', 'DM_> 2 Years'],\n",
              "      dtype='object')"
            ]
          },
          "metadata": {
            "tags": []
          },
          "execution_count": 20
        }
      ]
    },
    {
      "cell_type": "markdown",
      "metadata": {
        "id": "thMeJg59sh9K"
      },
      "source": [
        "*  Target Encoder for Region_Code and Policy_Sales_Channel columns"
      ]
    },
    {
      "cell_type": "code",
      "metadata": {
        "id": "lkqlMM8u11-o"
      },
      "source": [
        "def test_mean_target_encoding(train, test, target, categorical, alpha=5):\r\n",
        "    # Calculate global mean on the train data\r\n",
        "    global_mean = train[target].mean()\r\n",
        "    \r\n",
        "    # Group by the categorical feature and calculate its properties\r\n",
        "    train_groups = train.groupby(categorical)\r\n",
        "    category_sum = train_groups[target].sum()\r\n",
        "    category_size = train_groups.size()\r\n",
        "    \r\n",
        "    # Calculate smoothed mean target statistics\r\n",
        "    train_statistics = (category_sum + global_mean * alpha) / (category_size + alpha)\r\n",
        "    \r\n",
        "    # Apply statistics to the test data and fill new categories\r\n",
        "    test_feature = test[categorical].map(train_statistics).fillna(global_mean)\r\n",
        "    return test_feature.values\r\n",
        "\r\n",
        "\r\n",
        "def train_mean_target_encoding(train, target, categorical, alpha=5):\r\n",
        "    # Create 5-fold cross-validation\r\n",
        "    kf = KFold(n_splits=5, random_state=2424, shuffle=True)\r\n",
        "    train_feature = pd.Series(index=train.index)\r\n",
        "    \r\n",
        "    # For each folds split\r\n",
        "    for train_index, test_index in kf.split(train):\r\n",
        "        cv_train, cv_test = train.iloc[train_index], train.iloc[test_index]\r\n",
        "      \r\n",
        "        # Calculate out-of-fold statistics and apply to cv_test\r\n",
        "        cv_test_feature = test_mean_target_encoding(cv_train, cv_test, target, categorical, alpha)\r\n",
        "        \r\n",
        "        # Save new feature for this particular fold\r\n",
        "        train_feature.iloc[test_index] = cv_test_feature       \r\n",
        "    return train_feature.values\r\n",
        "\r\n",
        "\r\n",
        "def mean_target_encoding(train, test, target, categorical, alpha=5):\r\n",
        "  \r\n",
        "    # Get the train feature\r\n",
        "    train_feature = train_mean_target_encoding(train, target, categorical, alpha)\r\n",
        "    # Get the test feature\r\n",
        "    test_feature = test_mean_target_encoding(train, test, target, categorical, alpha)\r\n",
        "    \r\n",
        "    # Return new features to add to the model\r\n",
        "    return train_feature, test_feature"
      ],
      "execution_count": 10,
      "outputs": []
    },
    {
      "cell_type": "markdown",
      "metadata": {
        "id": "0b8dE7gJUpks"
      },
      "source": [
        "## **Training and Validation Split**"
      ]
    },
    {
      "cell_type": "code",
      "metadata": {
        "id": "fnxzNe2212ZW",
        "colab": {
          "base_uri": "https://localhost:8080/",
          "height": 1000
        },
        "outputId": "e8d67123-1f1a-411a-cc1d-4bbc6f45a177"
      },
      "source": [
        "# Create 5-fold cross-validation\r\n",
        "kf = KFold(n_splits=5, random_state=24, shuffle=True)\r\n",
        "\r\n",
        "Region_Code_list=[]\r\n",
        "Policy_Sales_Channel_list=[]\r\n",
        "roc_auc_score_list=[]\r\n",
        "\r\n",
        "# For each folds split\r\n",
        "for train_index, test_index in kf.split(data_encoded):\r\n",
        "    cv_train, cv_test = data_encoded.iloc[train_index], data_encoded.iloc[test_index]\r\n",
        "\r\n",
        "    # Create mean target encoded feature\r\n",
        "    cv_train['Region_Code_enc'], cv_test['Region_Code_enc'] = mean_target_encoding(train=cv_train,\r\n",
        "                                                                           test=cv_test,\r\n",
        "                                                                           target='Target',\r\n",
        "                                                                           categorical='Region_Code',\r\n",
        "                                                                           alpha=5)\r\n",
        "    cv_train['Policy_Sales_Channel_enc'], cv_test['Policy_Sales_Channel_enc'] = mean_target_encoding(train=cv_train,\r\n",
        "                                                                           test=cv_test,\r\n",
        "                                                                           target='Target',\r\n",
        "                                                                           categorical='Policy_Sales_Channel',\r\n",
        "                                                                           alpha=5)\r\n",
        "    \r\n",
        "    # Take the average of encoded values for each category (columns Region_Code and Policy_Sales_Channel)\r\n",
        "    train_enc_RC= pd.DataFrame(cv_train.groupby('Region_Code')['Region_Code_enc'].mean().reset_index(), \r\n",
        "                               columns=['Region_Code', 'Region_Code_enc'])\r\n",
        "    test_enc_RC=pd.DataFrame(cv_test.groupby('Region_Code')['Region_Code_enc'].mean().reset_index(), \r\n",
        "                             columns=['Region_Code', 'Region_Code_enc'])\r\n",
        "    #print(train_enc_RC.head())\r\n",
        "\r\n",
        "    Region_Code_list += [ [key, value] for key, value in zip(train_enc_RC.Region_Code, train_enc_RC.Region_Code_enc)]\r\n",
        "    Region_Code_list += [ [key, value] for key, value in zip(test_enc_RC.Region_Code, test_enc_RC.Region_Code_enc)]\r\n",
        "    #print(Region_Code_list[:10])\r\n",
        "\r\n",
        "    train_enc_PSL= pd.DataFrame(cv_train.groupby('Policy_Sales_Channel')['Policy_Sales_Channel_enc'].mean().reset_index(), \r\n",
        "                                columns=['Policy_Sales_Channel', 'Policy_Sales_Channel_enc'])\r\n",
        "    test_enc_PSL=pd.DataFrame(cv_test.groupby('Policy_Sales_Channel')['Policy_Sales_Channel_enc'].mean().reset_index(), \r\n",
        "                             columns=['Policy_Sales_Channel', 'Policy_Sales_Channel_enc'])\r\n",
        "\r\n",
        "    Policy_Sales_Channel_list += [ [key, value] for key, value in zip(train_enc_PSL.Policy_Sales_Channel, train_enc_PSL.Policy_Sales_Channel_enc)]\r\n",
        "    Policy_Sales_Channel_list += [ [key, value] for key, value in zip(test_enc_PSL.Policy_Sales_Channel, test_enc_PSL.Policy_Sales_Channel_enc)]\r\n",
        "    #print(cv_train[['Region_Code', 'Target', 'Region_Code_enc']].sample(n=1))\r\n",
        "\r\n",
        "    cv_train.drop(['Region_Code','id','Policy_Sales_Channel'], inplace=True, axis=1)\r\n",
        "    cv_test.drop(['Region_Code','id','Policy_Sales_Channel'], inplace=True, axis=1)\r\n",
        "    #print(cv_train.columns)\r\n",
        "\r\n",
        "\r\n",
        "    features=['Age', 'Annual_Premium_log', 'Seniority',\r\n",
        "       'Driving_License_enc', 'Previously_Insured_enc', 'Vehicle_Damage_enc',\r\n",
        "       'DM_Male', 'DM_B', 'DM_C', 'DM_D', 'DM_M', 'DM_< 1 Year',\r\n",
        "       'DM_> 2 Years', 'Region_Code_enc', 'Policy_Sales_Channel_enc'] \r\n",
        "\r\n",
        "\r\n",
        "\r\n",
        "    #Training\r\n",
        "    X_train, y_train=cv_train[features],cv_train[['Target']]\r\n",
        "    X_test, y_test=cv_test[features],cv_test[['Target']]\r\n",
        "    \r\n",
        "    #Dimensionality Reduction with PCA\r\n",
        "\r\n",
        "    #pca = PCA(n_components=.98)  #n_components=9\r\n",
        "    #pca.fit(X_train)\r\n",
        "\r\n",
        "    #plt.plot(pca.explained_variance_ratio_)\r\n",
        "    #plt.xlabel('Principal component index')\r\n",
        "    #plt.ylabel('Explained Variance Ratio')\r\n",
        "    #plt.show()\r\n",
        "\r\n",
        "    #X_train_pca = pd.DataFrame(pca.transform(X_train))\r\n",
        "    #X_test_pca = pd.DataFrame(pca.transform(X_test))\r\n",
        "    \r\n",
        "    #print(\"Dataset shape before PCA: \", X_train.shape)\r\n",
        "    #print(\"Dataset shape after PCA: \", X_train_pca.shape)\r\n",
        "\r\n",
        "    print('Data train shape: ', X_train.shape)\r\n",
        "    print('Data test shape: ', y_train.values.ravel().shape)\r\n",
        "\r\n",
        "\r\n",
        "    param_grid_logreg={'C':list(range(5,60,1))}\r\n",
        "    #param_grid_logreg={'C':list(range(50,150,10))}\r\n",
        "    #param_grid_xgb={'n_estimators':list(range(60,100,2)), 'learning_rate': np.arange(.15, .25, .01),  'subsample': np.arange(.8, 1.01, .04)}\r\n",
        "\r\n",
        "    #RandomSearch and Model Selection\r\n",
        "\r\n",
        "    #random_class=RandomizedSearchCV(estimator=LogisticRegression(), param_distributions=param_grid_logreg,\r\n",
        "    #                                 n_iter=10, scoring='f1',\r\n",
        "    #                                 refit=True, return_train_score=True)\r\n",
        "\r\n",
        "    \r\n",
        "    #random_class= LogisticRegression(C=50) #.7487\r\n",
        "    #random_class= KNeighborsClassifier() #.68\r\n",
        "    random_class=RandomForestClassifier() #.7453\r\n",
        "    #random_class=RFE(estimator=RandomForestClassifier(), n_features_to_select=12, verbose =1) #.7470\r\n",
        "    #random_class= SGDClassifier(loss='log') #.7463\r\n",
        "    #random_class= xgb.XGBClassifier(objective='binary:logistic',random_state=123, n_estimators=85, learning_rate=.2, subsample=.85) #.76\r\n",
        "\r\n",
        "    random_class.fit(X_train.values, y_train.values.ravel())\r\n",
        "    #print('Best parameters: ',random_class.best_params_)\r\n",
        "    #print('Best f1_score: ',random_class.best_score_)\r\n",
        "    \r\n",
        "    #best_est=random_class.best_estimator_\r\n",
        "    best_est=random_class\r\n",
        "\r\n",
        "\r\n",
        "    #Evaluation\r\n",
        "    y_pred= best_est.predict(X_test.values) \r\n",
        "    y_pred_proba=  best_est.predict_proba(X_test.values)[:,1]\r\n",
        "\r\n",
        "    fpr, tpr, thresholds = roc_curve(y_test.values, y_pred_proba)\r\n",
        "    \r\n",
        "    plt.plot([0,1],[0,1],'k--')\r\n",
        "    plt.plot(fpr, tpr)\r\n",
        "    plt.title('ROC Curve')\r\n",
        "    plt.xlabel('False Positive Rate')\r\n",
        "    plt.ylabel('True Positive Rate')\r\n",
        "    plt.show()\r\n",
        "\r\n",
        "    print('F1_score: ',f1_score(y_test.values, y_pred))\r\n",
        "    print('Accuracy_score: ',accuracy_score(y_test.values, y_pred))\r\n",
        "\r\n",
        "    score=roc_auc_score(y_test.values, y_pred_proba)\r\n",
        "    roc_auc_score_list.append(score) \r\n",
        "\r\n",
        "    print(\"AUC: {}\".format(score))\r\n",
        "    print(classification_report(y_test, y_pred))\r\n",
        "    corr=confusion_matrix(y_pred, y_test)\r\n",
        "     \r\n",
        "    heatmap=sns.heatmap(corr, annot=True, fmt=\"d\", cmap=\"YlGnBu\")\r\n",
        "    heatmap.set_title('Correlation Heatmap', fontdict={'fontsize':12})\r\n",
        "    \r\n",
        "    plt.show()\r\n",
        "    print('')\r\n",
        "    print('')\r\n",
        "\r\n",
        "\r\n",
        "    \r\n",
        "          "
      ],
      "execution_count": 16,
      "outputs": [
        {
          "output_type": "stream",
          "text": [
            "/usr/local/lib/python3.7/dist-packages/ipykernel_launcher.py:21: DeprecationWarning: The default dtype for empty Series will be 'object' instead of 'float64' in a future version. Specify a dtype explicitly to silence this warning.\n",
            "/usr/local/lib/python3.7/dist-packages/ipykernel_launcher.py:17: SettingWithCopyWarning: \n",
            "A value is trying to be set on a copy of a slice from a DataFrame.\n",
            "Try using .loc[row_indexer,col_indexer] = value instead\n",
            "\n",
            "See the caveats in the documentation: https://pandas.pydata.org/pandas-docs/stable/user_guide/indexing.html#returning-a-view-versus-a-copy\n",
            "/usr/local/lib/python3.7/dist-packages/ipykernel_launcher.py:22: SettingWithCopyWarning: \n",
            "A value is trying to be set on a copy of a slice from a DataFrame.\n",
            "Try using .loc[row_indexer,col_indexer] = value instead\n",
            "\n",
            "See the caveats in the documentation: https://pandas.pydata.org/pandas-docs/stable/user_guide/indexing.html#returning-a-view-versus-a-copy\n",
            "/usr/local/lib/python3.7/dist-packages/pandas/core/frame.py:4174: SettingWithCopyWarning: \n",
            "A value is trying to be set on a copy of a slice from a DataFrame\n",
            "\n",
            "See the caveats in the documentation: https://pandas.pydata.org/pandas-docs/stable/user_guide/indexing.html#returning-a-view-versus-a-copy\n",
            "  errors=errors,\n"
          ],
          "name": "stderr"
        },
        {
          "output_type": "stream",
          "text": [
            "Data train shape:  (81880, 15)\n",
            "Data test shape:  (81880,)\n"
          ],
          "name": "stdout"
        },
        {
          "output_type": "display_data",
          "data": {
            "image/png": "[encoded data removed]",
            "text/plain": [
              "<Figure size 432x288 with 1 Axes>"
            ]
          },
          "metadata": {
            "tags": [],
            "needs_background": "light"
          }
        },
        {
          "output_type": "stream",
          "text": [
            "F1_score:  0.47234678624813153\n",
            "Accuracy_score:  0.7068535977724586\n",
            "AUC: 0.7472901371483974\n",
            "              precision    recall  f1-score   support\n",
            "\n",
            "           0       0.76      0.84      0.80     13963\n",
            "           1       0.55      0.41      0.47      6508\n",
            "\n",
            "    accuracy                           0.71     20471\n",
            "   macro avg       0.65      0.63      0.63     20471\n",
            "weighted avg       0.69      0.71      0.69     20471\n",
            "\n"
          ],
          "name": "stdout"
        },
        {
          "output_type": "display_data",
          "data": {
            "image/png": "[encoded data removed]",
            "text/plain": [
              "<Figure size 432x288 with 2 Axes>"
            ]
          },
          "metadata": {
            "tags": [],
            "needs_background": "light"
          }
        },
        {
          "output_type": "stream",
          "text": [
            "\n",
            "\n"
          ],
          "name": "stdout"
        },
        {
          "output_type": "stream",
          "text": [
            "/usr/local/lib/python3.7/dist-packages/ipykernel_launcher.py:21: DeprecationWarning: The default dtype for empty Series will be 'object' instead of 'float64' in a future version. Specify a dtype explicitly to silence this warning.\n",
            "/usr/local/lib/python3.7/dist-packages/ipykernel_launcher.py:17: SettingWithCopyWarning: \n",
            "A value is trying to be set on a copy of a slice from a DataFrame.\n",
            "Try using .loc[row_indexer,col_indexer] = value instead\n",
            "\n",
            "See the caveats in the documentation: https://pandas.pydata.org/pandas-docs/stable/user_guide/indexing.html#returning-a-view-versus-a-copy\n",
            "/usr/local/lib/python3.7/dist-packages/ipykernel_launcher.py:22: SettingWithCopyWarning: \n",
            "A value is trying to be set on a copy of a slice from a DataFrame.\n",
            "Try using .loc[row_indexer,col_indexer] = value instead\n",
            "\n",
            "See the caveats in the documentation: https://pandas.pydata.org/pandas-docs/stable/user_guide/indexing.html#returning-a-view-versus-a-copy\n",
            "/usr/local/lib/python3.7/dist-packages/pandas/core/frame.py:4174: SettingWithCopyWarning: \n",
            "A value is trying to be set on a copy of a slice from a DataFrame\n",
            "\n",
            "See the caveats in the documentation: https://pandas.pydata.org/pandas-docs/stable/user_guide/indexing.html#returning-a-view-versus-a-copy\n",
            "  errors=errors,\n"
          ],
          "name": "stderr"
        },
        {
          "output_type": "stream",
          "text": [
            "Data train shape:  (81881, 15)\n",
            "Data test shape:  (81881,)\n"
          ],
          "name": "stdout"
        },
        {
          "output_type": "display_data",
          "data": {
            "image/png": "[encoded data removed]",
            "text/plain": [
              "<Figure size 432x288 with 1 Axes>"
            ]
          },
          "metadata": {
            "tags": [],
            "needs_background": "light"
          }
        },
        {
          "output_type": "stream",
          "text": [
            "F1_score:  0.46127428829643013\n",
            "Accuracy_score:  0.7087933561309233\n",
            "AUC: 0.744261230697135\n",
            "              precision    recall  f1-score   support\n",
            "\n",
            "           0       0.76      0.85      0.80     14094\n",
            "           1       0.54      0.40      0.46      6376\n",
            "\n",
            "    accuracy                           0.71     20470\n",
            "   macro avg       0.65      0.62      0.63     20470\n",
            "weighted avg       0.69      0.71      0.69     20470\n",
            "\n"
          ],
          "name": "stdout"
        },
        {
          "output_type": "display_data",
          "data": {
            "image/png": "[encoded data removed]",
            "text/plain": [
              "<Figure size 432x288 with 2 Axes>"
            ]
          },
          "metadata": {
            "tags": [],
            "needs_background": "light"
          }
        },
        {
          "output_type": "stream",
          "text": [
            "\n",
            "\n"
          ],
          "name": "stdout"
        },
        {
          "output_type": "stream",
          "text": [
            "/usr/local/lib/python3.7/dist-packages/ipykernel_launcher.py:21: DeprecationWarning: The default dtype for empty Series will be 'object' instead of 'float64' in a future version. Specify a dtype explicitly to silence this warning.\n",
            "/usr/local/lib/python3.7/dist-packages/ipykernel_launcher.py:17: SettingWithCopyWarning: \n",
            "A value is trying to be set on a copy of a slice from a DataFrame.\n",
            "Try using .loc[row_indexer,col_indexer] = value instead\n",
            "\n",
            "See the caveats in the documentation: https://pandas.pydata.org/pandas-docs/stable/user_guide/indexing.html#returning-a-view-versus-a-copy\n",
            "/usr/local/lib/python3.7/dist-packages/ipykernel_launcher.py:22: SettingWithCopyWarning: \n",
            "A value is trying to be set on a copy of a slice from a DataFrame.\n",
            "Try using .loc[row_indexer,col_indexer] = value instead\n",
            "\n",
            "See the caveats in the documentation: https://pandas.pydata.org/pandas-docs/stable/user_guide/indexing.html#returning-a-view-versus-a-copy\n",
            "/usr/local/lib/python3.7/dist-packages/pandas/core/frame.py:4174: SettingWithCopyWarning: \n",
            "A value is trying to be set on a copy of a slice from a DataFrame\n",
            "\n",
            "See the caveats in the documentation: https://pandas.pydata.org/pandas-docs/stable/user_guide/indexing.html#returning-a-view-versus-a-copy\n",
            "  errors=errors,\n"
          ],
          "name": "stderr"
        },
        {
          "output_type": "stream",
          "text": [
            "Data train shape:  (81881, 15)\n",
            "Data test shape:  (81881,)\n"
          ],
          "name": "stdout"
        },
        {
          "output_type": "display_data",
          "data": {
            "image/png": "[encoded data removed]",
            "text/plain": [
              "<Figure size 432x288 with 1 Axes>"
            ]
          },
          "metadata": {
            "tags": [],
            "needs_background": "light"
          }
        },
        {
          "output_type": "stream",
          "text": [
            "F1_score:  0.4571479059904577\n",
            "Accuracy_score:  0.6998534440644846\n",
            "AUC: 0.7425912778053279\n",
            "              precision    recall  f1-score   support\n",
            "\n",
            "           0       0.74      0.85      0.79     13853\n",
            "           1       0.55      0.39      0.46      6617\n",
            "\n",
            "    accuracy                           0.70     20470\n",
            "   macro avg       0.65      0.62      0.62     20470\n",
            "weighted avg       0.68      0.70      0.68     20470\n",
            "\n"
          ],
          "name": "stdout"
        },
        {
          "output_type": "display_data",
          "data": {
            "image/png": "[encoded data removed]",
            "text/plain": [
              "<Figure size 432x288 with 2 Axes>"
            ]
          },
          "metadata": {
            "tags": [],
            "needs_background": "light"
          }
        },
        {
          "output_type": "stream",
          "text": [
            "\n",
            "\n"
          ],
          "name": "stdout"
        },
        {
          "output_type": "stream",
          "text": [
            "/usr/local/lib/python3.7/dist-packages/ipykernel_launcher.py:21: DeprecationWarning: The default dtype for empty Series will be 'object' instead of 'float64' in a future version. Specify a dtype explicitly to silence this warning.\n",
            "/usr/local/lib/python3.7/dist-packages/ipykernel_launcher.py:17: SettingWithCopyWarning: \n",
            "A value is trying to be set on a copy of a slice from a DataFrame.\n",
            "Try using .loc[row_indexer,col_indexer] = value instead\n",
            "\n",
            "See the caveats in the documentation: https://pandas.pydata.org/pandas-docs/stable/user_guide/indexing.html#returning-a-view-versus-a-copy\n",
            "/usr/local/lib/python3.7/dist-packages/ipykernel_launcher.py:22: SettingWithCopyWarning: \n",
            "A value is trying to be set on a copy of a slice from a DataFrame.\n",
            "Try using .loc[row_indexer,col_indexer] = value instead\n",
            "\n",
            "See the caveats in the documentation: https://pandas.pydata.org/pandas-docs/stable/user_guide/indexing.html#returning-a-view-versus-a-copy\n",
            "/usr/local/lib/python3.7/dist-packages/pandas/core/frame.py:4174: SettingWithCopyWarning: \n",
            "A value is trying to be set on a copy of a slice from a DataFrame\n",
            "\n",
            "See the caveats in the documentation: https://pandas.pydata.org/pandas-docs/stable/user_guide/indexing.html#returning-a-view-versus-a-copy\n",
            "  errors=errors,\n"
          ],
          "name": "stderr"
        },
        {
          "output_type": "stream",
          "text": [
            "Data train shape:  (81881, 15)\n",
            "Data test shape:  (81881,)\n"
          ],
          "name": "stdout"
        },
        {
          "output_type": "display_data",
          "data": {
            "image/png": "[encoded data removed]",
            "text/plain": [
              "<Figure size 432x288 with 1 Axes>"
            ]
          },
          "metadata": {
            "tags": [],
            "needs_background": "light"
          }
        },
        {
          "output_type": "stream",
          "text": [
            "F1_score:  0.4647464216292631\n",
            "Accuracy_score:  0.7040547142159257\n",
            "AUC: 0.7421128403436799\n",
            "              precision    recall  f1-score   support\n",
            "\n",
            "           0       0.75      0.84      0.80     13975\n",
            "           1       0.55      0.40      0.46      6495\n",
            "\n",
            "    accuracy                           0.70     20470\n",
            "   macro avg       0.65      0.62      0.63     20470\n",
            "weighted avg       0.69      0.70      0.69     20470\n",
            "\n"
          ],
          "name": "stdout"
        },
        {
          "output_type": "display_data",
          "data": {
            "image/png": "[encoded data removed]",
            "text/plain": [
              "<Figure size 432x288 with 2 Axes>"
            ]
          },
          "metadata": {
            "tags": [],
            "needs_background": "light"
          }
        },
        {
          "output_type": "stream",
          "text": [
            "\n",
            "\n"
          ],
          "name": "stdout"
        },
        {
          "output_type": "stream",
          "text": [
            "/usr/local/lib/python3.7/dist-packages/ipykernel_launcher.py:21: DeprecationWarning: The default dtype for empty Series will be 'object' instead of 'float64' in a future version. Specify a dtype explicitly to silence this warning.\n",
            "/usr/local/lib/python3.7/dist-packages/ipykernel_launcher.py:17: SettingWithCopyWarning: \n",
            "A value is trying to be set on a copy of a slice from a DataFrame.\n",
            "Try using .loc[row_indexer,col_indexer] = value instead\n",
            "\n",
            "See the caveats in the documentation: https://pandas.pydata.org/pandas-docs/stable/user_guide/indexing.html#returning-a-view-versus-a-copy\n",
            "/usr/local/lib/python3.7/dist-packages/ipykernel_launcher.py:22: SettingWithCopyWarning: \n",
            "A value is trying to be set on a copy of a slice from a DataFrame.\n",
            "Try using .loc[row_indexer,col_indexer] = value instead\n",
            "\n",
            "See the caveats in the documentation: https://pandas.pydata.org/pandas-docs/stable/user_guide/indexing.html#returning-a-view-versus-a-copy\n",
            "/usr/local/lib/python3.7/dist-packages/pandas/core/frame.py:4174: SettingWithCopyWarning: \n",
            "A value is trying to be set on a copy of a slice from a DataFrame\n",
            "\n",
            "See the caveats in the documentation: https://pandas.pydata.org/pandas-docs/stable/user_guide/indexing.html#returning-a-view-versus-a-copy\n",
            "  errors=errors,\n"
          ],
          "name": "stderr"
        },
        {
          "output_type": "stream",
          "text": [
            "Data train shape:  (81881, 15)\n",
            "Data test shape:  (81881,)\n"
          ],
          "name": "stdout"
        },
        {
          "output_type": "display_data",
          "data": {
            "image/png": "[encoded data removed]",
            "text/plain": [
              "<Figure size 432x288 with 1 Axes>"
            ]
          },
          "metadata": {
            "tags": [],
            "needs_background": "light"
          }
        },
        {
          "output_type": "stream",
          "text": [
            "F1_score:  0.4700847235566425\n",
            "Accuracy_score:  0.7036150464093796\n",
            "AUC: 0.7483643341333651\n",
            "              precision    recall  f1-score   support\n",
            "\n",
            "           0       0.76      0.84      0.79     13993\n",
            "           1       0.54      0.42      0.47      6477\n",
            "\n",
            "    accuracy                           0.70     20470\n",
            "   macro avg       0.65      0.63      0.63     20470\n",
            "weighted avg       0.69      0.70      0.69     20470\n",
            "\n"
          ],
          "name": "stdout"
        },
        {
          "output_type": "display_data",
          "data": {
            "image/png": "[encoded data removed]",
            "text/plain": [
              "<Figure size 432x288 with 2 Axes>"
            ]
          },
          "metadata": {
            "tags": [],
            "needs_background": "light"
          }
        },
        {
          "output_type": "stream",
          "text": [
            "\n",
            "\n"
          ],
          "name": "stdout"
        }
      ]
    },
    {
      "cell_type": "code",
      "metadata": {
        "colab": {
          "base_uri": "https://localhost:8080/"
        },
        "id": "arYB6iAiceM1",
        "outputId": "aa95f042-955d-4215-af49-c1da80b81101"
      },
      "source": [
        "print(\"Average_AUC: {}\".format(np.mean(roc_auc_score_list)))"
      ],
      "execution_count": null,
      "outputs": [
        {
          "output_type": "stream",
          "text": [
            "Average_AUC: 0.7487675365459696\n"
          ],
          "name": "stdout"
        }
      ]
    },
    {
      "cell_type": "code",
      "metadata": {
        "id": "hVAaQ9ZuXJ0S"
      },
      "source": [
        "#Extract the mean for each category\r\n",
        "RC_dict_count=dict.fromkeys(data_categorical.Region_Code.unique(), 0)\r\n",
        "RC_dict_sum=dict.fromkeys(data_categorical.Region_Code.unique(), 0)\r\n",
        "RC_dict_enc=dict.fromkeys(data_categorical.Region_Code.unique(), 0)\r\n",
        "\r\n",
        "for row in Region_Code_list:\r\n",
        "  region_code, region_code_enc=row[0], row[1]\r\n",
        "  RC_dict_count[region_code]+=1\r\n",
        "  RC_dict_sum[region_code]+=region_code_enc\r\n",
        "\r\n",
        "for key, value in RC_dict_count.items():\r\n",
        "  RC_dict_enc[key]= RC_dict_sum[key]/value\r\n",
        "\r\n",
        "\r\n",
        "\r\n",
        "PSL_dict_count=dict.fromkeys(data_categorical.Policy_Sales_Channel.unique(), 0)\r\n",
        "PSL_dict_sum=dict.fromkeys(data_categorical.Policy_Sales_Channel.unique(), 0)\r\n",
        "PSL_dict_enc=dict.fromkeys(data_categorical.Policy_Sales_Channel.unique(), 0)\r\n",
        "\r\n",
        "for row in Policy_Sales_Channel_list:\r\n",
        "  policy_sales_channel, policy_sales_channel_enc=row[0], row[1]\r\n",
        "  PSL_dict_count[policy_sales_channel]+=1\r\n",
        "  PSL_dict_sum[policy_sales_channel]+=policy_sales_channel_enc\r\n",
        "\r\n",
        "for key, value in PSL_dict_count.items():\r\n",
        "  PSL_dict_enc[key]= PSL_dict_sum[key]/value  \r\n",
        "\r\n",
        "\r\n",
        "RC_keys_train= set(RC_dict_enc.keys())\r\n",
        "PSL_keys_train= set(PSL_dict_enc.keys()) "
      ],
      "execution_count": null,
      "outputs": []
    },
    {
      "cell_type": "markdown",
      "metadata": {
        "id": "kqopLaS2bLaj"
      },
      "source": [
        "## **Processing test data**"
      ]
    },
    {
      "cell_type": "code",
      "metadata": {
        "colab": {
          "base_uri": "https://localhost:8080/",
          "height": 217
        },
        "id": "1KhDpXHObLwN",
        "outputId": "1b74c179-1893-4742-d39b-44769defbf20"
      },
      "source": [
        "df=pd.read_csv('/content/drive/MyDrive/Colab Notebooks/Cross_Sale_Classification/prediction_independent.csv')\r\n",
        "df.head()"
      ],
      "execution_count": null,
      "outputs": [
        {
          "output_type": "execute_result",
          "data": {
            "text/html": [
              "<div>\n",
              "<style scoped>\n",
              "    .dataframe tbody tr th:only-of-type {\n",
              "        vertical-align: middle;\n",
              "    }\n",
              "\n",
              "    .dataframe tbody tr th {\n",
              "        vertical-align: top;\n",
              "    }\n",
              "\n",
              "    .dataframe thead th {\n",
              "        text-align: right;\n",
              "    }\n",
              "</style>\n",
              "<table border=\"1\" class=\"dataframe\">\n",
              "  <thead>\n",
              "    <tr style=\"text-align: right;\">\n",
              "      <th></th>\n",
              "      <th>id</th>\n",
              "      <th>Gender</th>\n",
              "      <th>Age</th>\n",
              "      <th>Driving_License</th>\n",
              "      <th>Licence_Type</th>\n",
              "      <th>Region_Code</th>\n",
              "      <th>Previously_Insured</th>\n",
              "      <th>Vehicle_Age</th>\n",
              "      <th>Vehicle_Damage</th>\n",
              "      <th>Annual_Premium</th>\n",
              "      <th>Policy_Sales_Channel</th>\n",
              "      <th>Seniority</th>\n",
              "    </tr>\n",
              "  </thead>\n",
              "  <tbody>\n",
              "    <tr>\n",
              "      <th>0</th>\n",
              "      <td>1</td>\n",
              "      <td>Male</td>\n",
              "      <td>51</td>\n",
              "      <td>1</td>\n",
              "      <td>M</td>\n",
              "      <td>28</td>\n",
              "      <td>No</td>\n",
              "      <td>1-2 Year</td>\n",
              "      <td>Yes</td>\n",
              "      <td>45301</td>\n",
              "      <td>26</td>\n",
              "      <td>31</td>\n",
              "    </tr>\n",
              "    <tr>\n",
              "      <th>1</th>\n",
              "      <td>2</td>\n",
              "      <td>Male</td>\n",
              "      <td>63</td>\n",
              "      <td>1</td>\n",
              "      <td>B</td>\n",
              "      <td>39</td>\n",
              "      <td>No</td>\n",
              "      <td>1-2 Year</td>\n",
              "      <td>Yes</td>\n",
              "      <td>18609</td>\n",
              "      <td>124</td>\n",
              "      <td>28</td>\n",
              "    </tr>\n",
              "    <tr>\n",
              "      <th>2</th>\n",
              "      <td>3</td>\n",
              "      <td>Male</td>\n",
              "      <td>76</td>\n",
              "      <td>1</td>\n",
              "      <td>M</td>\n",
              "      <td>38</td>\n",
              "      <td>No</td>\n",
              "      <td>1-2 Year</td>\n",
              "      <td>Yes</td>\n",
              "      <td>35081</td>\n",
              "      <td>26</td>\n",
              "      <td>164</td>\n",
              "    </tr>\n",
              "    <tr>\n",
              "      <th>3</th>\n",
              "      <td>4</td>\n",
              "      <td>Female</td>\n",
              "      <td>38</td>\n",
              "      <td>1</td>\n",
              "      <td>B</td>\n",
              "      <td>41</td>\n",
              "      <td>No</td>\n",
              "      <td>1-2 Year</td>\n",
              "      <td>Yes</td>\n",
              "      <td>19603</td>\n",
              "      <td>124</td>\n",
              "      <td>33</td>\n",
              "    </tr>\n",
              "    <tr>\n",
              "      <th>4</th>\n",
              "      <td>5</td>\n",
              "      <td>Female</td>\n",
              "      <td>21</td>\n",
              "      <td>1</td>\n",
              "      <td>D</td>\n",
              "      <td>30</td>\n",
              "      <td>Yes</td>\n",
              "      <td>&lt; 1 Year</td>\n",
              "      <td>No</td>\n",
              "      <td>27842</td>\n",
              "      <td>160</td>\n",
              "      <td>28</td>\n",
              "    </tr>\n",
              "  </tbody>\n",
              "</table>\n",
              "</div>"
            ],
            "text/plain": [
              "   id  Gender  Age  ...  Annual_Premium Policy_Sales_Channel  Seniority\n",
              "0   1    Male   51  ...           45301                   26         31\n",
              "1   2    Male   63  ...           18609                  124         28\n",
              "2   3    Male   76  ...           35081                   26        164\n",
              "3   4  Female   38  ...           19603                  124         33\n",
              "4   5  Female   21  ...           27842                  160         28\n",
              "\n",
              "[5 rows x 12 columns]"
            ]
          },
          "metadata": {
            "tags": []
          },
          "execution_count": 50
        }
      ]
    },
    {
      "cell_type": "code",
      "metadata": {
        "colab": {
          "base_uri": "https://localhost:8080/"
        },
        "id": "L0k3pXc-bL_Q",
        "outputId": "7abefdff-89ae-4308-c791-7f9fda0d6988"
      },
      "source": [
        "df.info()"
      ],
      "execution_count": null,
      "outputs": [
        {
          "output_type": "stream",
          "text": [
            "<class 'pandas.core.frame.DataFrame'>\n",
            "RangeIndex: 45196 entries, 0 to 45195\n",
            "Data columns (total 12 columns):\n",
            " #   Column                Non-Null Count  Dtype \n",
            "---  ------                --------------  ----- \n",
            " 0   id                    45196 non-null  int64 \n",
            " 1   Gender                45196 non-null  object\n",
            " 2   Age                   45196 non-null  int64 \n",
            " 3   Driving_License       45196 non-null  int64 \n",
            " 4   Licence_Type          42921 non-null  object\n",
            " 5   Region_Code           45196 non-null  int64 \n",
            " 6   Previously_Insured    45196 non-null  object\n",
            " 7   Vehicle_Age           45196 non-null  object\n",
            " 8   Vehicle_Damage        45196 non-null  object\n",
            " 9   Annual_Premium        45196 non-null  int64 \n",
            " 10  Policy_Sales_Channel  45196 non-null  int64 \n",
            " 11  Seniority             45196 non-null  int64 \n",
            "dtypes: int64(7), object(5)\n",
            "memory usage: 4.1+ MB\n"
          ],
          "name": "stdout"
        }
      ]
    },
    {
      "cell_type": "code",
      "metadata": {
        "id": "9QP-OKWcbMOl",
        "colab": {
          "base_uri": "https://localhost:8080/"
        },
        "outputId": "0c7f5c50-1630-4c6b-dc4d-824aed85d39d"
      },
      "source": [
        "df.fillna({'Licence_Type':'N'}, inplace=True)\r\n",
        "\r\n",
        "df['Previously_Insured'].replace({'Yes':'True','No':'False'}, inplace=True)\r\n",
        "df['Vehicle_Damage'].replace({'Yes':'True','No':'False'}, inplace=True)\r\n",
        "\r\n",
        "df[labels_multi]=df[labels_multi].apply(lambda x: x.astype('category') ,axis=0)\r\n",
        "df[labels_bin]=df[labels_bin].apply(lambda x: x.astype('bool') ,axis=0)\r\n",
        "\r\n",
        "df_categorical=df[['Gender', 'Driving_License', 'Licence_Type', 'Region_Code',\r\n",
        "       'Previously_Insured', 'Vehicle_Age', 'Vehicle_Damage',\r\n",
        "       'Policy_Sales_Channel']]\r\n",
        "df_numerical=df[['id','Age', 'Annual_Premium', 'Seniority']]\r\n",
        "\r\n",
        "df_categorical['Driving_License_enc']=enc1.transform(df_categorical.Driving_License)\r\n",
        "df_categorical['Previously_Insured_enc']=enc2.transform(df_categorical.Previously_Insured)\r\n",
        "df_categorical['Vehicle_Damage_enc']=enc3.transform(df_categorical.Vehicle_Damage)\r\n",
        "\r\n",
        "df_categorical.drop(['Driving_License','Previously_Insured','Vehicle_Damage'], axis=1, inplace=True)\r\n",
        "\r\n",
        "df_categorical=pd.get_dummies(df_categorical, columns=['Gender', 'Licence_Type', 'Vehicle_Age'], drop_first=True, prefix='DM')\r\n",
        "\r\n",
        "df_numerical['Annual_Premium_log']=np.log(df_numerical.Annual_Premium)\r\n",
        "df_num_scaled=pd.concat([pd.DataFrame(ss1.transform(df_numerical[['Age']]), columns=['Age']), \r\n",
        "                           pd.DataFrame(ss2.transform(df_numerical[['Annual_Premium_log']]), columns=['Annual_Premium_log']), \r\n",
        "                           pd.DataFrame(ss3.transform(df_numerical[['Seniority']]), columns=['Seniority']) ], axis=1)\r\n"
      ],
      "execution_count": null,
      "outputs": [
        {
          "output_type": "stream",
          "text": [
            "/usr/local/lib/python3.6/dist-packages/ipykernel_launcher.py:14: SettingWithCopyWarning: \n",
            "A value is trying to be set on a copy of a slice from a DataFrame.\n",
            "Try using .loc[row_indexer,col_indexer] = value instead\n",
            "\n",
            "See the caveats in the documentation: https://pandas.pydata.org/pandas-docs/stable/user_guide/indexing.html#returning-a-view-versus-a-copy\n",
            "  \n",
            "/usr/local/lib/python3.6/dist-packages/ipykernel_launcher.py:15: SettingWithCopyWarning: \n",
            "A value is trying to be set on a copy of a slice from a DataFrame.\n",
            "Try using .loc[row_indexer,col_indexer] = value instead\n",
            "\n",
            "See the caveats in the documentation: https://pandas.pydata.org/pandas-docs/stable/user_guide/indexing.html#returning-a-view-versus-a-copy\n",
            "  from ipykernel import kernelapp as app\n",
            "/usr/local/lib/python3.6/dist-packages/ipykernel_launcher.py:16: SettingWithCopyWarning: \n",
            "A value is trying to be set on a copy of a slice from a DataFrame.\n",
            "Try using .loc[row_indexer,col_indexer] = value instead\n",
            "\n",
            "See the caveats in the documentation: https://pandas.pydata.org/pandas-docs/stable/user_guide/indexing.html#returning-a-view-versus-a-copy\n",
            "  app.launch_new_instance()\n",
            "/usr/local/lib/python3.6/dist-packages/pandas/core/frame.py:4174: SettingWithCopyWarning: \n",
            "A value is trying to be set on a copy of a slice from a DataFrame\n",
            "\n",
            "See the caveats in the documentation: https://pandas.pydata.org/pandas-docs/stable/user_guide/indexing.html#returning-a-view-versus-a-copy\n",
            "  errors=errors,\n",
            "/usr/local/lib/python3.6/dist-packages/ipykernel_launcher.py:22: SettingWithCopyWarning: \n",
            "A value is trying to be set on a copy of a slice from a DataFrame.\n",
            "Try using .loc[row_indexer,col_indexer] = value instead\n",
            "\n",
            "See the caveats in the documentation: https://pandas.pydata.org/pandas-docs/stable/user_guide/indexing.html#returning-a-view-versus-a-copy\n"
          ],
          "name": "stderr"
        }
      ]
    },
    {
      "cell_type": "code",
      "metadata": {
        "colab": {
          "base_uri": "https://localhost:8080/"
        },
        "id": "ZYkfsmb2b1Li",
        "outputId": "f47e12a4-f233-4891-8e11-f3de2142edae"
      },
      "source": [
        "RC_keys_test= set(df_categorical.Region_Code.value_counts().index)\r\n",
        "PSL_keys_test=set(df_categorical.Policy_Sales_Channel.value_counts().index)\r\n",
        "\r\n",
        "print(RC_keys_test.difference(RC_keys_train))\r\n",
        "print(PSL_keys_test.difference(PSL_keys_train)) #New Policy Channels Sales"
      ],
      "execution_count": null,
      "outputs": [
        {
          "output_type": "stream",
          "text": [
            "set()\n",
            "{33, 34, 102, 43, 112, 83, 27, 126, 95}\n"
          ],
          "name": "stdout"
        }
      ]
    },
    {
      "cell_type": "code",
      "metadata": {
        "id": "NFZAipwx_URY"
      },
      "source": [
        "for key in PSL_keys_test.difference(PSL_keys_train):\r\n",
        "  PSL_dict_enc[key]=np.mean(list(PSL_dict_enc.values()))\r\n",
        "\r\n",
        "df_categorical['Region_Code_enc']=df_categorical.Region_Code.replace(RC_dict_enc)\r\n",
        "df_categorical['Policy_Sales_Channel_enc']=df_categorical.Policy_Sales_Channel.replace(PSL_dict_enc)"
      ],
      "execution_count": null,
      "outputs": []
    },
    {
      "cell_type": "code",
      "metadata": {
        "id": "yembh8FkflSs"
      },
      "source": [
        "df_encoded=pd.concat([df_numerical.id, df_num_scaled, df_categorical], axis=1)\r\n",
        "df_encoded.drop(['DM_N','Region_Code','Policy_Sales_Channel'], inplace=True, axis=1)"
      ],
      "execution_count": null,
      "outputs": []
    },
    {
      "cell_type": "code",
      "metadata": {
        "colab": {
          "base_uri": "https://localhost:8080/"
        },
        "id": "Nn8bR4VMuhJO",
        "outputId": "1be1ccd6-7ab6-4985-ba91-a153468dda5c"
      },
      "source": [
        "df_encoded.shape"
      ],
      "execution_count": null,
      "outputs": [
        {
          "output_type": "execute_result",
          "data": {
            "text/plain": [
              "(45196, 16)"
            ]
          },
          "metadata": {
            "tags": []
          },
          "execution_count": 55
        }
      ]
    },
    {
      "cell_type": "markdown",
      "metadata": {
        "id": "lf4Wne3cxCNK"
      },
      "source": [
        "## **Model Evaluation**"
      ]
    },
    {
      "cell_type": "code",
      "metadata": {
        "colab": {
          "base_uri": "https://localhost:8080/"
        },
        "id": "XsB3p9Rpu0S7",
        "outputId": "2d9a9eb7-511e-4672-9847-a19ac47cac90"
      },
      "source": [
        "features=['Age', 'Annual_Premium_log', 'Seniority',\r\n",
        "       'Driving_License_enc', 'Previously_Insured_enc', 'Vehicle_Damage_enc',\r\n",
        "       'DM_Male', 'DM_B', 'DM_C', 'DM_D', 'DM_M', 'DM_< 1 Year',\r\n",
        "       'DM_> 2 Years', 'Region_Code_enc', 'Policy_Sales_Channel_enc'] \r\n",
        "\r\n",
        "#Testing\r\n",
        "X_test=df_encoded[features]\r\n",
        "print(X_test.shape)\r\n",
        "\r\n",
        "y_pred=logreg.predict(X_test)\r\n",
        "y_pred_proba= logreg.predict_proba(X_test)[:,1]\r\n",
        "print(y_pred.shape)\r\n"
      ],
      "execution_count": null,
      "outputs": [
        {
          "output_type": "stream",
          "text": [
            "(45196, 15)\n",
            "(45196,)\n"
          ],
          "name": "stdout"
        }
      ]
    },
    {
      "cell_type": "code",
      "metadata": {
        "id": "4WsDotS0xYZU"
      },
      "source": [
        "predictions_test=pd.concat([df.id, pd.DataFrame(y_pred.reshape(-1,1), columns=['prediction'])], axis=1).set_index('id')\r\n",
        "predictions_test.to_csv('predictions_test.csv')"
      ],
      "execution_count": null,
      "outputs": []
    },
    {
      "cell_type": "code",
      "metadata": {
        "id": "-AJo1FMt0UmF"
      },
      "source": [
        "print(\"AUC: {}\".format(roc_auc_score(y_test, y_pred_proba)))"
      ],
      "execution_count": null,
      "outputs": []
    }
  ]
}